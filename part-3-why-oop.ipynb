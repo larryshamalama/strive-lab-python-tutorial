{
 "cells": [
  {
   "cell_type": "code",
   "execution_count": 1,
   "id": "7da285de",
   "metadata": {},
   "outputs": [],
   "source": [
    "from functools import singledispatch\n",
    "\n",
    "import numpy as np"
   ]
  },
  {
   "cell_type": "code",
   "execution_count": 2,
   "id": "bf907bec",
   "metadata": {},
   "outputs": [],
   "source": [
    "class RandomVariable:\n",
    "    pass\n",
    "\n",
    "\n",
    "@singledispatch\n",
    "def logp(rv, value, *args, **kwargs):\n",
    "    assert isinstance(rv, RandomVariable)\n",
    "    assert isinstance(value, float)\n",
    "    \n",
    "    raise NotImplementedError\n",
    "    \n",
    "\n",
    "class NormalRV(RandomVariable):\n",
    "    pass\n",
    "\n",
    "\n",
    "@logp.register(NormalRV)\n",
    "def normal_logp(rv, value, mu=0, sigma=1):\n",
    "    return -np.log(sigma) - 0.5 * np.log(2 * np.pi) - 0.5 * ((value - mu) / sigma) ** 2"
   ]
  },
  {
   "cell_type": "code",
   "execution_count": 3,
   "id": "4570fa73",
   "metadata": {},
   "outputs": [
    {
     "data": {
      "text/plain": [
       "-8.918938533204672"
      ]
     },
     "execution_count": 3,
     "metadata": {},
     "output_type": "execute_result"
    }
   ],
   "source": [
    "x = NormalRV()\n",
    "\n",
    "logp(x, 4)"
   ]
  },
  {
   "cell_type": "code",
   "execution_count": null,
   "id": "963a1514",
   "metadata": {},
   "outputs": [],
   "source": []
  }
 ],
 "metadata": {
  "kernelspec": {
   "display_name": "phd",
   "language": "python",
   "name": "phd"
  },
  "language_info": {
   "codemirror_mode": {
    "name": "ipython",
    "version": 3
   },
   "file_extension": ".py",
   "mimetype": "text/x-python",
   "name": "python",
   "nbconvert_exporter": "python",
   "pygments_lexer": "ipython3",
   "version": "3.11.5"
  }
 },
 "nbformat": 4,
 "nbformat_minor": 5
}
